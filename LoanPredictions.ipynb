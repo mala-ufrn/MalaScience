{
  "nbformat": 4,
  "nbformat_minor": 0,
  "metadata": {
    "colab": {
      "name": "LoanPredictions.ipynb",
      "version": "0.3.2",
      "provenance": [],
      "collapsed_sections": []
    }
  },
  "cells": [
    {
      "metadata": {
        "id": "7QU0Ye6TvHHL",
        "colab_type": "text"
      },
      "cell_type": "markdown",
      "source": [
        "#Introdução\n",
        "---"
      ]
    },
    {
      "metadata": {
        "id": "g1PYQQ6t2u28",
        "colab_type": "text"
      },
      "cell_type": "markdown",
      "source": [
        "No mundo dos negócios imobiliários, é frequente a necessidade de analise de diferentes perfis de pessoas interessadas em empréstimos para compra de sua casa própria. Os exercicios a seguir servem como base para definirmos faixas de crédito baseado no histórico de financiamentos de imóveis. \n",
        "\n",
        "<font size=4 color='#333'>**Objetivo**</font></br>\n",
        "Ao fim desse caderno você será capaz de definir faixas de risco (quem consegue ou não um empréstimo imobiliário) com base em um dado conjunto de dados dos perfis solicitantes.\n",
        "\n",
        "<font size=4 color='#333'>**Tempo Estimado:**</font> 90 minutos (ou partida de futebol)</br>\n",
        "\n",
        "<font size=4 color='#333'>**O Conjunto de dados**</font></br>\n",
        "O conjunto de dados analisado constará de pouco mais de 600 entradas. O dicionário dos rotulos pode ser checado abaixo:\n",
        "\n",
        "- **Loan_ID** - Identificador do empréstimo\n",
        "- **Gender** -  Género do aplicante\n",
        "- **Married** - O aplicante casado (Yes/No)\n",
        "- **Dependents** - Número de dependentes do aplicante\n",
        "- **Education** - Nível de escolaridade do aplicante\n",
        "- **Self_Employed** - O aplicante trabalha por conta própria (Yes/No)\n",
        "- **ApplicantIncome** - Renda do aplicante\n",
        "- **CoapplicantIncome** - Renda do co-aplicante\n",
        "- **LoanAmount** - Valor do empréstimo (em milhares)\n",
        "- **Loan_Amount_Term** - Prazo do empréstimo (em meses)\n",
        "- **Credit_History** - histórico de crédito do aplicante atende às diretrizes\n",
        "- **Property_Area** - Área da propriedade (Rural, Urbana, Semi-urbana)\n",
        "- **Loan_Status** - Empréstimo aprovado (Y/N)\n",
        "\n",
        "<font size=4 color='#333'>**Níveis de dificuldade**</font></br>\n",
        "A dificuldade de cada questão será inversamente proporsional à paciência do [Cromulon](http://rickandmorty.wikia.com/wiki/Cromulons) (se você não sabe o que é um Cromulons,  perderá 78,8% da empolgação - sério...)\n",
        "\n",
        "Este caderno esta dividido em 10 exercícios divididos em: \n",
        "* SETE são questões fáceis ou médias;\n",
        "* DUAS são questões difíceis; e \n",
        "* UMA questão muito difícil que te fará chorar.\n",
        "\n",
        "Abaixo, a escala de impaciência do Cromulon:\n",
        "\n",
        "Dificuldade 🡒 🡒 🡒\n",
        "\n",
        "![Escala Cromulon](https://image.ibb.co/k1Q3gp/Cromulon_scale.png)\n",
        "\n",
        "Vamos lá... \n",
        "mas antes de dar prosseguimento, carregue o arquivo csv necessario executando o bloco de código abaixo:\n"
      ]
    },
    {
      "metadata": {
        "id": "C91zXdnVA9Tr",
        "colab_type": "code",
        "colab": {
          "resources": {
            "http://localhost:8080/nbextensions/google.colab/files.js": {
              "data": "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",
              "ok": true,
              "headers": [
                [
                  "content-type",
                  "application/javascript"
                ]
              ],
              "status": 200,
              "status_text": "OK"
            }
          },
          "base_uri": "https://localhost:8080/",
          "height": 75
        },
        "outputId": "2a2319da-83e5-43ad-dadd-59ca3f6959dd"
      },
      "cell_type": "code",
      "source": [
        "# Carregando os arquivos de seu armazenamento local\n",
        "from google.colab import files\n",
        "uploaded = files.upload()"
      ],
      "execution_count": 2,
      "outputs": [
        {
          "output_type": "display_data",
          "data": {
            "text/plain": [
              "<IPython.core.display.HTML object>"
            ],
            "text/html": [
              "\n",
              "     <input type=\"file\" id=\"files-7b18c92f-f58e-47e7-a0b0-01f56a5f3ac7\" name=\"files[]\" multiple disabled />\n",
              "     <output id=\"result-7b18c92f-f58e-47e7-a0b0-01f56a5f3ac7\">\n",
              "      Upload widget is only available when the cell has been executed in the\n",
              "      current browser session. Please rerun this cell to enable.\n",
              "      </output>\n",
              "      <script src=\"/nbextensions/google.colab/files.js\"></script> "
            ]
          },
          "metadata": {
            "tags": []
          }
        },
        {
          "output_type": "stream",
          "text": [
            "Saving loan_entries.csv to loan_entries.csv\n"
          ],
          "name": "stdout"
        }
      ]
    },
    {
      "metadata": {
        "id": "DLinsgc63bPo",
        "colab_type": "text"
      },
      "cell_type": "markdown",
      "source": [
        "#01 - Lendo arquivos com Pandas"
      ]
    },
    {
      "metadata": {
        "id": "rsGR-IFo6bfN",
        "colab_type": "text"
      },
      "cell_type": "markdown",
      "source": [
        "O [pandas](https://https://pandas.pydata.org/) é um pacote Python que fornece estruturas de dados rápidas, flexíveis e expressivas, projetadas para tornar o trabalho com dados “relacionais” ou “rotulados” fáceis e intuitivos. Dentre outras funcionabilidades, o pandas fornece uma API de I/O com um conjunto de funções de leitores de alto nível (como o **pandas.read_csv()**) que retornam um objeto do tipo pandas. Além disso, a mesma API é capaz de escrever seus resultados em diversos formatos. Abaixo uma breve descrição de alguns formatos de arquivos suportados pelo pandas.\n",
        "\n",
        "|| Format Type\t| Data Description\t| Reader\t| Writer |\n",
        "|---|--------------|-------------|-----------|-------------|\n",
        "| |  text\t| CSV\t| read_csv\t| to_csv |\n",
        "| |  text\t| JSON\t| read_json\t| to_json |\n",
        "| | text | \tHTML\t| read_html\t| to_html |\n",
        "| | binary\t| MS Excel\t| read_excel\t| to_excel |\n",
        "| | SQL\t| SQL\t| read_sql\t| to_sql |\n",
        "\n",
        "Algo interessante é que o pandas pode ler também do seu prórpio clipboard ( o conteúdo que esta em seu Ctrl+C) ele também é capaz de escrever no clipboard ).\n",
        "\n",
        "\n",
        "\n"
      ]
    },
    {
      "metadata": {
        "id": "ga1DM5C9-lbR",
        "colab_type": "text"
      },
      "cell_type": "markdown",
      "source": [
        "\n",
        "![fácil](https://image.ibb.co/evZUMp/Cromulon_easy.png)\n",
        "\n",
        "Neste projeto trabalharemos com uma amostra dos perfís de candidatos a empréstimos imobiliários. Para iniciarmos, na célula abaixo, você deve:\n",
        "\n",
        "\n",
        "1.   Importar o **pandas** como **pd**.\n",
        "2.   Ler o arquivo **'loan_entries.csv'** disponibilizado (lembre-se de coloca-lo no contexto do seu collab), e atribuir seu conteudo a um **pandas.Dataframe**, nomeado **loans.**\n"
      ]
    },
    {
      "metadata": {
        "id": "Rzomh70W6jWj",
        "colab_type": "code",
        "colab": {}
      },
      "cell_type": "code",
      "source": [
        "#Substitua as lacunas (...) abaixo\n",
        "import ...\n",
        "\n",
        "loans = pd.read_csv(\"...\")"
      ],
      "execution_count": 0,
      "outputs": []
    },
    {
      "metadata": {
        "id": "U21vjZy4G5Ny",
        "colab_type": "text"
      },
      "cell_type": "markdown",
      "source": [
        "# 02 - Entendendo seu conjundo de dados\n",
        "\n"
      ]
    },
    {
      "metadata": {
        "id": "jpqukPB4u4QB",
        "colab_type": "text"
      },
      "cell_type": "markdown",
      "source": [
        "> *\"Como um bom cientista de dados, você deve antes de tudo entender minimamente o conjunto de dados que estão em suas mãos.\"\"* -  2018, Ivanovitch \n",
        "\n",
        "\n",
        "\n",
        "Agora que temos os dados sobre o perfil de pessoas interessadas em executar um empréstimo imobiliário. Informações simples podem ser capturadas a príncipio para sabermos sobre o que estamos trabalhando.\n",
        "\n",
        "E para esta tarefa, o **panda.Dataframe** nos oferece alguns métodos e últeis, como **head()**, **info()**, **describe()** e os atributos **shape** e **columns**."
      ]
    },
    {
      "metadata": {
        "id": "gOBjRDtMHe86",
        "colab_type": "text"
      },
      "cell_type": "markdown",
      "source": [
        "![fácil](https://image.ibb.co/evZUMp/Cromulon_easy.png)\n",
        "\n",
        "Na célula de código abaixo, determine:\n",
        "\n",
        "1.  Quantas linhas e colunas o **DataFrame** possui\n",
        "2.  Quais os nomes e tipos das colunas\n",
        "3. A que se refere cada coluna, elas condizem com os valores que recebem? \n",
        "\n",
        "\n"
      ]
    },
    {
      "metadata": {
        "id": "_ANXN86aI6ZY",
        "colab_type": "code",
        "colab": {}
      },
      "cell_type": "code",
      "source": [
        "#Escreva seu código abaixo\n"
      ],
      "execution_count": 0,
      "outputs": []
    },
    {
      "metadata": {
        "id": "oWXClzm1BYR9",
        "colab_type": "text"
      },
      "cell_type": "markdown",
      "source": [
        "#03 - Padronizando os nomes das colunas"
      ]
    },
    {
      "metadata": {
        "id": "atDmnCHNEqU2",
        "colab_type": "text"
      },
      "cell_type": "markdown",
      "source": [
        "Analisando o dicionário de dados (e provavelmente os resultados da questão anterior) notamos que os nomes das colunas não estão padronizados, algumas seguindo o padrão upper [CamelCase](https://en.wikipedia.org/wiki/Camel_case) e outras com palavras separadas por um \"_\". Sendo que o padrão preferido em Python seria o [snake_case](https://en.wikipedia.org/wiki/Snake_case).\n",
        "\n",
        "Um módulo do python que facilita a conversão destes formatos é o [Regular expressions operations](https://docs.python.org/2/library/re.html). como demonstrado no código abaixo."
      ]
    },
    {
      "metadata": {
        "id": "yuxgU6inJwLT",
        "colab_type": "code",
        "colab": {
          "base_uri": "https://localhost:8080/",
          "height": 34
        },
        "outputId": "2c298b72-ffce-47ba-8dc6-96e58e5f0e07"
      },
      "cell_type": "code",
      "source": [
        "import re\n",
        "\n",
        "CamelCase = \"ImMrMeeseeksLookAtMe\"\n",
        "snake_case = re.sub('(\\w)([A-Z])', r'\\1_\\2', CamelCase).lower()\n",
        "print \"Result:\", snake_case"
      ],
      "execution_count": 5,
      "outputs": [
        {
          "output_type": "stream",
          "text": [
            "Result: im_mr_meeseeks_look_at_me\n"
          ],
          "name": "stdout"
        }
      ]
    },
    {
      "metadata": {
        "id": "FuP05TvYLWDP",
        "colab_type": "text"
      },
      "cell_type": "markdown",
      "source": [
        "![médio](https://image.ibb.co/jaM4nU/Cromulon.png)\n",
        "\n",
        "Na célula de código abaixo:\n",
        "* Complete a função **to_snake_case(name)** de forma que converta qualquer nome presente  nas colunas. **Dica:** tome cuidados com os nomes que já têm o \"_\"; \n",
        "* Aplique esta função utilizando  [list comprehension](https://docs.python.org/3/tutorial/datastructures.html#list-comprehensions) para alterar o nome das colunas; e\n",
        "* Imprima os nomes das colunas para verificar o resultado."
      ]
    },
    {
      "metadata": {
        "id": "tMIZAKp1Na9h",
        "colab_type": "code",
        "colab": {}
      },
      "cell_type": "code",
      "source": [
        "#Complete o código abaixo subistituíndo as reticências (...) por seu código\n",
        "def to_snake_case(name):\n",
        "  \"\"\"Transforma o nome 'name' para o padrão snake_case\"\"\"\n",
        "  pass\n",
        "\n",
        "#Utilize a função para transformar o nome as colunas e imprima seus novos valores\n"
      ],
      "execution_count": 0,
      "outputs": []
    },
    {
      "metadata": {
        "id": "WMtDj5y-DElS",
        "colab_type": "text"
      },
      "cell_type": "markdown",
      "source": [
        "#04 - Padronizando os dados das colunas"
      ]
    },
    {
      "metadata": {
        "id": "xsOuOvFtoW_7",
        "colab_type": "text"
      },
      "cell_type": "markdown",
      "source": [
        "Além dos nomes das colunas, executando um **Dataframe.head()** no conjunto de dados, claramente que algumas colunas com respostas simples ('Yes' ou 'No') possuem respostas em formatos diferentes ('Y' ou 'N') e até mesmo tipos diferentes: 1.0 ou 0.0, para a coluna **credit_history**. Isto é facilmente identificável com o método **Series.unique()**:"
      ]
    },
    {
      "metadata": {
        "id": "5hhKE9yNps4O",
        "colab_type": "code",
        "colab": {
          "base_uri": "https://localhost:8080/",
          "height": 34
        },
        "cellView": "code",
        "outputId": "aa0db510-c48c-48aa-9dd2-868ba21aad5c"
      },
      "cell_type": "code",
      "source": [
        "loans[\"credit_history\"].unique()"
      ],
      "execution_count": 7,
      "outputs": [
        {
          "output_type": "execute_result",
          "data": {
            "text/plain": [
              "array([ 1.,  0., nan])"
            ]
          },
          "metadata": {
            "tags": []
          },
          "execution_count": 7
        }
      ]
    },
    {
      "metadata": {
        "id": "PHoi8WjUrKlT",
        "colab_type": "text"
      },
      "cell_type": "markdown",
      "source": [
        "Voltando ao dicionário do conjunto de dados, vemos que **credit_history** responde se o \"histórico de crédito do aplicante atende às diretrizes\", cabendo uma resposta de Sim ou Não.\n",
        "\n",
        "Para a tarefa de subistituição dos valores, o pandas oferece duas alternativas: **Series.replace()** e **Series.map()**."
      ]
    },
    {
      "metadata": {
        "id": "GaG19cS6aEwL",
        "colab_type": "text"
      },
      "cell_type": "markdown",
      "source": [
        "![médio](https://image.ibb.co/jaM4nU/Cromulon.png)\n",
        "\n",
        "As colunas **credit_history** e **loan_status** não seguem o padrão de resposta Yes/No. No bloco de código abeixo:\n",
        "* Gere um dicinário com chaves sendo os padrões encontrados nestas duas colunas e como valores, o substituto esperado.\n",
        "* Utilize um dos dois métodos do **pandas.Series** para realizar as correções.\n",
        "\n",
        "<font size=2>**Dica:** se utilizar **Series.map()** cuidado para não executar código duas vezes ou acrescente 'Yes' e 'No' como chaves do dicionário para evitar a perda dos dados.</font>"
      ]
    },
    {
      "metadata": {
        "id": "ILmNhRqgv0hI",
        "colab_type": "code",
        "colab": {}
      },
      "cell_type": "code",
      "source": [
        "#Escreva seu código abaixo\n"
      ],
      "execution_count": 0,
      "outputs": []
    },
    {
      "metadata": {
        "id": "UP8qOlI-Z3ws",
        "colab_type": "text"
      },
      "cell_type": "markdown",
      "source": [
        "# 05 - Tratando dados faltosos (Parte 1)"
      ]
    },
    {
      "metadata": {
        "id": "zmOEkrMkIfgx",
        "colab_type": "text"
      },
      "cell_type": "markdown",
      "source": [
        "Uma vez que você padronizou as colunas do nosso DataFrame, deve ter notado que em algumas delas estão faltando valores.\n",
        "\n",
        "<table>\n",
        "  <thead>\n",
        "    <tr><th align=\"left\">Coluna</th><th align=\"center\">Entradas</th></tr>\n",
        "  </thead>\n",
        "  <tbody>\n",
        "    <tr><td>loan_id</td><td align=\"center\">614 non-null</td></tr>\n",
        "    <tr><td>gender</td><td align=\"center\">601 non-null</td></tr>\n",
        "    <tr><td>married</td><td align=\"center\">611 non-null</td></tr>\n",
        "    <tr><td>dependents</td><td align=\"center\">599 non-null</td></tr>\n",
        "    <tr><td>education</td><td align=\"center\">614 non-null</td></tr>\n",
        "    <tr><td>self_employed</td><td align=\"center\">582 non-null</td></tr>\n",
        "    <tr><td>applicant_income</td><td align=\"center\">614 non-null</td></tr>\n",
        "    <tr><td>coapplicant_income</td><td align=\"center\">614 non-null</td></tr>\n",
        "    <tr><td>loan_amount</td><td align=\"center\">592 non-null</td></tr>\n",
        "    <tr><td>loan_amount_term</td><td align=\"center\">600 non-null</td></tr>\n",
        "    <tr><td>credit_history</td><td align=\"center\">564 non-null</td></tr>\n",
        "    <tr><td>property_area</td><td align=\"center\">614 non-null</td></tr>\n",
        "    <tr><td>loan_status</td><td align=\"center\">614 non-null</td></tr>\n",
        "  </tbody>\n",
        "</table>\n",
        "\n",
        "Existem algumas técnicas para tratar com essa situação,  e a próposito este é um tema bastante estudado, basta uma breve pesquisa e verá que muita gente estuda métodos para preencher esses valores.\n",
        "\n",
        "No nosso caso, usaremos técnicas simples, como preenchimento por média ou zero.\n",
        "\n",
        "E para tanto, o Dataframe  tem um método especificamente para esta tarefa: **Dataframe.fillna(value)**"
      ]
    },
    {
      "metadata": {
        "id": "7dFYb2h2NObI",
        "colab_type": "text"
      },
      "cell_type": "markdown",
      "source": [
        "![médio](https://image.ibb.co/jaM4nU/Cromulon.png)\n",
        "\n",
        "Na célula de código abaixo:\n",
        "* Retire caracteres __não numéricos__ da coluna **dependents**, preencha valores faltosos com zero e converta o tipo da coluna para int\n",
        "* Preencha os valores faltantes na colunas **credit_history,** com *'No'*\n",
        "* Nas colunas **gender**, **married** e **self_employed** preencha os valores faltantes com a <a href=\"https://en.wikipedia.org/wiki/Mode_(statistics)\">moda</a> destas colunas\n",
        "\n"
      ]
    },
    {
      "metadata": {
        "id": "8RHj7CiZ3r4t",
        "colab_type": "code",
        "colab": {}
      },
      "cell_type": "code",
      "source": [
        "#Escreva seu código abaixo\n"
      ],
      "execution_count": 0,
      "outputs": []
    },
    {
      "metadata": {
        "id": "f3qUMA3T3Srd",
        "colab_type": "text"
      },
      "cell_type": "markdown",
      "source": [
        "#06 - Tratando dados faltosos (parte 2)"
      ]
    },
    {
      "metadata": {
        "id": "OL_LsoTc4u87",
        "colab_type": "text"
      },
      "cell_type": "markdown",
      "source": [
        "Ainda há dois campos muito importantes com dados incompletos: **loan_amount** e **loan_amount_term**, sendo que estas duas colunas não são simplesmente  inferidas por suas médias.\n",
        "\n",
        "Desta forma vamos levar em conta, para o preenchimento destes dados faltantes, a área da propriedade, se é **Rural**, **Urbana** e quaisquer opções."
      ]
    },
    {
      "metadata": {
        "id": "OSgf_EIc9fwa",
        "colab_type": "text"
      },
      "cell_type": "markdown",
      "source": [
        "![difícil](https://image.ibb.co/b8i61p/Cromulon_medium.png)\n",
        "\n",
        "Na célula de código abaixo, estraia os valores únicos da coluna **property_area** para uma lista e itere pela lista subdividindo o conjunto de dados e determinando os valores faltantes:\n",
        "\n",
        "* Para **loan_amount** preencha os valores faltantes com a [média](https://en.wikipedia.org/wiki/Mean) dos valores para propriedades do mesmo tipo.\n",
        "* Para **loan_amount_term** preencha os valores faltantes com a **moda** dos valores para propriedades do mesmo tipo."
      ]
    },
    {
      "metadata": {
        "id": "1imW7SVEZA5o",
        "colab_type": "code",
        "colab": {}
      },
      "cell_type": "code",
      "source": [
        "#Escreva seu código abaixo\n"
      ],
      "execution_count": 0,
      "outputs": []
    },
    {
      "metadata": {
        "id": "QaOXJJUpJyji",
        "colab_type": "text"
      },
      "cell_type": "markdown",
      "source": [
        "#07 - Agrupando resultados"
      ]
    },
    {
      "metadata": {
        "id": "kOaVobO76S6e",
        "colab_type": "text"
      },
      "cell_type": "markdown",
      "source": [
        "Agora que os dados estão preparados, podemos inferir algumas informações:\n"
      ]
    },
    {
      "metadata": {
        "id": "PRkueEwKBaZX",
        "colab_type": "text"
      },
      "cell_type": "markdown",
      "source": [
        "![médio](https://image.ibb.co/jaM4nU/Cromulon.png)\n",
        "\n",
        "Baseado na coluna **loan_status**:\n",
        "* Atribua a um Dataframe **loan_success** todos os emprestimos com valor 'Yes' e ao Dataframe **loan_failure** os emprestimos com situação 'No'.\n",
        "\n",
        "Obtenha os seguntes dados:\n",
        "\n",
        "* proporção entre todos os empréstimos e os que são negados (loan_status = No)\n",
        "* Qual a média dos valores **loan_amount** aprovados?\n",
        "* Qual o menor valor **loan_amount** entre todos, ele foi aprovado? Quais as características do solicitante?\n",
        "* Qual o maior valor aprovado, e o maior valor negado?"
      ]
    },
    {
      "metadata": {
        "id": "bK0k-eNC5O1Z",
        "colab_type": "code",
        "colab": {}
      },
      "cell_type": "code",
      "source": [
        "#Escreva seu código abaixo\n"
      ],
      "execution_count": 0,
      "outputs": []
    },
    {
      "metadata": {
        "id": "fkw8EbT0J8Xw",
        "colab_type": "text"
      },
      "cell_type": "markdown",
      "source": [
        "#08 - Gerando respostas"
      ]
    },
    {
      "metadata": {
        "id": "F62h1OWgU4_k",
        "colab_type": "text"
      },
      "cell_type": "markdown",
      "source": [
        "Existe um modelo estatístico apropriado para nosso trabalho, chama-se [árvore de decisão](https://www.lucidchart.com/pages/pt/o-que-e-arvore-de-decisao). No futuro iremos aprende-lo.\n",
        "\n",
        "No momento, podemos criar uma função um pouco mais simples que dado valores de entrada pesquisa no dataFrame e nos informa quais modalidades de emprestimos estariam disponíveis para os valores informados.\n",
        "\n"
      ]
    },
    {
      "metadata": {
        "id": "XAgi7zcx6vXK",
        "colab_type": "text"
      },
      "cell_type": "markdown",
      "source": [
        "Na célula abaixo, crie uma função que receberá:\n",
        "* O valor aplicado: **applicant_income** \n",
        "* O valor co-aplicado **coapplicant_income** \n",
        "* Valor do emprestimo **loan_amount** \n",
        "* Retorno deverá ser as possibilidades de emprestimos que seriam aprovados.\n",
        "\n",
        "Por exemplo, caso o usuário informe:\n",
        "income = 1500\n",
        "co_income = 1100\n",
        "loan_value = 100\n",
        "\n",
        "O resultado esperado será:\n",
        "\n",
        "|\tapplicant_income\t| coapplicant_income\t| loan_amount\t| loan_amount_term | property_area |\n",
        "|--|--|--|\n",
        "|1299\t|1086.0\t|17.0\t| 120.0 | Urban |\n",
        "\n",
        "Que indica que modalidade de emprestimo estaria disponível.\n",
        "\n",
        "\n",
        "\n",
        "![difícil](https://image.ibb.co/b8i61p/Cromulon_medium.png)"
      ]
    },
    {
      "metadata": {
        "id": "uH9afSZRZN1c",
        "colab_type": "code",
        "colab": {}
      },
      "cell_type": "code",
      "source": [
        "#Escreva seu código abaixo\n",
        "def loan_status(income, co_income, value):\n",
        "  pass"
      ],
      "execution_count": 0,
      "outputs": []
    },
    {
      "metadata": {
        "id": "9TSvEMEyumlX",
        "colab_type": "text"
      },
      "cell_type": "markdown",
      "source": [
        "#09 - Calculando o comprometimento da Renda\n"
      ]
    },
    {
      "metadata": {
        "id": "eUizeuubqyTV",
        "colab_type": "text"
      },
      "cell_type": "markdown",
      "source": [
        "Agora que já temos domínio sobre o dataFrame, queremos saber quanto da renda em % será comprometida pelas parcelas do empréstimo (Neste ponto, vamos ignorar a incidência de juros sobre as parcelas)."
      ]
    },
    {
      "metadata": {
        "id": "5qTSYZRNBfCx",
        "colab_type": "text"
      },
      "cell_type": "markdown",
      "source": [
        "![muito difícil](https://image.ibb.co/bAQfSU/Cromulon_absolut_red.png)\n",
        "\n",
        "\n",
        "No bloco de código abaixo:\n",
        "* Gere uma **Série** com a soma dos valores de **applicant_income** e **coapplicant_income**\n",
        "* Gere uma segunda Série representando as parcelas contendo a divisão de **loan_amount** por **loan_amout_term** (Dica: lembre-se que loan_amout esta em fator de milhares).\n",
        "* Adicione ao DataFrame **loans** uma coluna nomerada **income_percent** representado a porcentagem da renda conjunta que será comprometida pelas parcelas. \n",
        "* Existe algum valor de renda comprometida que seja incoerente (Valores próximos a 100% da renda por exemplo)? Caso sim, para estes o empréstimo foi aprovado e quais as caracteristicas dos solicitantes?\n",
        "\n"
      ]
    },
    {
      "metadata": {
        "id": "Ay0-B_057Hqj",
        "colab_type": "code",
        "colab": {}
      },
      "cell_type": "code",
      "source": [
        "#Escreva seu código abaixo\n",
        "\n"
      ],
      "execution_count": 0,
      "outputs": []
    }
  ]
}
